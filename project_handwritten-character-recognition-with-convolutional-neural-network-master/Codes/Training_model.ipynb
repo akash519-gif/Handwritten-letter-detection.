{
 "cells": [
  {
   "cell_type": "markdown",
   "metadata": {
    "id": "rX8mhOLljYeM"
   },
   "source": [
    "##### Copyright 2019 The TensorFlow Authors."
   ]
  },
  {
   "cell_type": "code",
   "execution_count": 1,
   "metadata": {
    "cellView": "form",
    "id": "BZSlp3DAjdYf"
   },
   "outputs": [],
   "source": [
    "#@title Licensed under the Apache License, Version 2.0 (the \"License\");\n",
    "# you may not use this file except in compliance with the License.\n",
    "# You may obtain a copy of the License at\n",
    "#\n",
    "# https://www.apache.org/licenses/LICENSE-2.0\n",
    "#\n",
    "# Unless required by applicable law or agreed to in writing, software\n",
    "# distributed under the License is distributed on an \"AS IS\" BASIS,\n",
    "# WITHOUT WARRANTIES OR CONDITIONS OF ANY KIND, either express or implied.\n",
    "# See the License for the specific language governing permissions and\n",
    "# limitations under the License."
   ]
  },
  {
   "cell_type": "code",
   "execution_count": 3,
   "metadata": {
    "colab": {
     "base_uri": "https://localhost:8080/",
     "height": 35
    },
    "id": "1RRUttwPBorv",
    "outputId": "e68fe20e-9a18-4e0f-c6b6-731d4df6cd07"
   },
   "outputs": [
    {
     "data": {
      "application/vnd.google.colaboratory.intrinsic+json": {
       "type": "string"
      },
      "text/plain": [
       "'/content'"
      ]
     },
     "execution_count": 3,
     "metadata": {
      "tags": []
     },
     "output_type": "execute_result"
    }
   ],
   "source": [
    "import os\n",
    "os.getcwd()"
   ]
  },
  {
   "cell_type": "code",
   "execution_count": 4,
   "metadata": {
    "colab": {
     "base_uri": "https://localhost:8080/"
    },
    "id": "SVOpljteBw7d",
    "outputId": "31d6428d-3a9c-4e9a-9017-60694584e378"
   },
   "outputs": [
    {
     "name": "stdout",
     "output_type": "stream",
     "text": [
      "Mounted at /content/drive\n"
     ]
    }
   ],
   "source": [
    "from google.colab import drive\n",
    "drive.mount('/content/drive')"
   ]
  },
  {
   "cell_type": "code",
   "execution_count": 5,
   "metadata": {
    "colab": {
     "base_uri": "https://localhost:8080/"
    },
    "id": "JkgUOkh4B9VQ",
    "outputId": "f2037fd8-1ef7-44fa-a149-3930ef47142f"
   },
   "outputs": [
    {
     "data": {
      "text/plain": [
       "['train.csv', 'test.csv', 'train_test_image.zip']"
      ]
     },
     "execution_count": 5,
     "metadata": {
      "tags": []
     },
     "output_type": "execute_result"
    }
   ],
   "source": [
    "import os\n",
    "os.listdir('/content/drive')\n",
    "os.listdir('/content/drive/MyDrive/CNN_project')"
   ]
  },
  {
   "cell_type": "code",
   "execution_count": 6,
   "metadata": {
    "id": "baWloDcjBKQY"
   },
   "outputs": [],
   "source": [
    "import os\n",
    "import zipfile\n",
    "\n",
    "local_zip = '/content/drive/MyDrive/CNN_project/train_test_image.zip'\n",
    "zip_ref = zipfile.ZipFile(local_zip, 'r')\n",
    "zip_ref.extractall('/content/')\n",
    "zip_ref.close()"
   ]
  },
  {
   "cell_type": "code",
   "execution_count": 14,
   "metadata": {
    "colab": {
     "base_uri": "https://localhost:8080/"
    },
    "id": "MrxdR83ANgjS",
    "outputId": "b9692d31-eb10-4ce2-83de-5ec8d3c00cda"
   },
   "outputs": [
    {
     "name": "stdout",
     "output_type": "stream",
     "text": [
      "total training K images: 4195\n",
      "total training Q images: 4341\n",
      "total training Y images: 8120\n",
      "total training O images: 43162\n",
      "total training G images: 4311\n",
      "total training T images: 16909\n",
      "total training J images: 6401\n",
      "total training F images: 878\n",
      "total training B images: 6548\n",
      "total training Z images: 4548\n",
      "total training D images: 7630\n",
      "total training I images: 820\n",
      "total training E images: 8638\n",
      "total training W images: 8057\n",
      "total training S images: 36349\n",
      "total training R images: 8666\n",
      "total training M images: 9270\n",
      "total training C images: 17458\n",
      "total training N images: 14385\n",
      "total training V images: 3108\n",
      "total training H images: 5401\n",
      "total training L images: 8729\n",
      "total training A images: 10414\n",
      "total training P images: 14493\n",
      "total training U images: 21818\n",
      "total training X images: 4689\n"
     ]
    }
   ],
   "source": [
    "# Number of training images in all alphabets\n",
    "for i in os.listdir('./train'):\n",
    "  image_dir = os.path.join('./train', i)\n",
    "  print(f'total training {i} images: {len(os.listdir(image_dir))}')"
   ]
  },
  {
   "cell_type": "code",
   "execution_count": 15,
   "metadata": {
    "colab": {
     "base_uri": "https://localhost:8080/"
    },
    "id": "dWF5yuXvb6Tw",
    "outputId": "049f7577-5ce9-4494-dcb4-5f2ed989b63f"
   },
   "outputs": [
    {
     "name": "stdout",
     "output_type": "stream",
     "text": [
      "total training K images: 1408\n",
      "total training Q images: 1471\n",
      "total training Y images: 2739\n",
      "total training O images: 14651\n",
      "total training G images: 1451\n",
      "total training T images: 5586\n",
      "total training J images: 2092\n",
      "total training F images: 285\n",
      "total training B images: 2120\n",
      "total training Z images: 1528\n",
      "total training D images: 2504\n",
      "total training I images: 300\n",
      "total training E images: 2802\n",
      "total training W images: 2727\n",
      "total training S images: 12070\n",
      "total training R images: 2900\n",
      "total training M images: 3066\n",
      "total training C images: 5951\n",
      "total training N images: 4625\n",
      "total training V images: 1074\n",
      "total training H images: 1817\n",
      "total training L images: 2857\n",
      "total training A images: 3456\n",
      "total training P images: 4848\n",
      "total training U images: 7190\n",
      "total training X images: 1583\n"
     ]
    }
   ],
   "source": [
    "# Number of training images in all alphabets\n",
    "for i in os.listdir('./test'):\n",
    "  image_dir = os.path.join('./test', i)\n",
    "  print(f'total training {i} images: {len(os.listdir(image_dir))}')"
   ]
  },
  {
   "cell_type": "code",
   "execution_count": 9,
   "metadata": {
    "colab": {
     "base_uri": "https://localhost:8080/"
    },
    "id": "Gv-w3BkADKxj",
    "outputId": "1b5f61cc-d84e-4b29-a5e0-abdd05c7c8c9"
   },
   "outputs": [
    {
     "name": "stdout",
     "output_type": "stream",
     "text": [
      "Model: \"sequential_2\"\n",
      "_________________________________________________________________\n",
      "Layer (type)                 Output Shape              Param #   \n",
      "=================================================================\n",
      "conv2d_4 (Conv2D)            (None, 26, 26, 32)        320       \n",
      "_________________________________________________________________\n",
      "max_pooling2d_4 (MaxPooling2 (None, 13, 13, 32)        0         \n",
      "_________________________________________________________________\n",
      "conv2d_5 (Conv2D)            (None, 11, 11, 64)        18496     \n",
      "_________________________________________________________________\n",
      "max_pooling2d_5 (MaxPooling2 (None, 5, 5, 64)          0         \n",
      "_________________________________________________________________\n",
      "flatten_2 (Flatten)          (None, 1600)              0         \n",
      "_________________________________________________________________\n",
      "dense_6 (Dense)              (None, 64)                102464    \n",
      "_________________________________________________________________\n",
      "dense_7 (Dense)              (None, 512)               33280     \n",
      "_________________________________________________________________\n",
      "dropout_2 (Dropout)          (None, 512)               0         \n",
      "_________________________________________________________________\n",
      "dense_8 (Dense)              (None, 26)                13338     \n",
      "=================================================================\n",
      "Total params: 167,898\n",
      "Trainable params: 167,898\n",
      "Non-trainable params: 0\n",
      "_________________________________________________________________\n",
      "None\n",
      "Found 279338 images belonging to 26 classes.\n",
      "Found 93100 images belonging to 26 classes.\n",
      "Epoch 1/25\n",
      "38/38 [==============================] - 96s 2s/step - loss: 2.5522 - accuracy: 0.2916 - val_loss: 0.9960 - val_accuracy: 0.7127\n",
      "Epoch 2/25\n",
      "38/38 [==============================] - 50s 1s/step - loss: 0.9990 - accuracy: 0.7018 - val_loss: 0.4877 - val_accuracy: 0.8608\n",
      "Epoch 3/25\n",
      "38/38 [==============================] - 48s 1s/step - loss: 0.5388 - accuracy: 0.8391 - val_loss: 0.3204 - val_accuracy: 0.9100\n",
      "Epoch 4/25\n",
      "38/38 [==============================] - 48s 1s/step - loss: 0.3619 - accuracy: 0.8938 - val_loss: 0.2023 - val_accuracy: 0.9417\n",
      "Epoch 5/25\n",
      "38/38 [==============================] - 48s 1s/step - loss: 0.2631 - accuracy: 0.9238 - val_loss: 0.2515 - val_accuracy: 0.9241\n",
      "Epoch 6/25\n",
      "38/38 [==============================] - 48s 1s/step - loss: 0.2230 - accuracy: 0.9357 - val_loss: 0.1685 - val_accuracy: 0.9504\n",
      "Epoch 7/25\n",
      "38/38 [==============================] - 49s 1s/step - loss: 0.1798 - accuracy: 0.9478 - val_loss: 0.1472 - val_accuracy: 0.9568\n",
      "Epoch 8/25\n",
      "38/38 [==============================] - 48s 1s/step - loss: 0.1512 - accuracy: 0.9568 - val_loss: 0.1038 - val_accuracy: 0.9708\n",
      "Epoch 9/25\n",
      "38/38 [==============================] - 48s 1s/step - loss: 0.1276 - accuracy: 0.9623 - val_loss: 0.0890 - val_accuracy: 0.9747\n",
      "Epoch 10/25\n",
      "38/38 [==============================] - 48s 1s/step - loss: 0.1193 - accuracy: 0.9655 - val_loss: 0.1030 - val_accuracy: 0.9714\n",
      "Epoch 11/25\n",
      "38/38 [==============================] - 48s 1s/step - loss: 0.1094 - accuracy: 0.9686 - val_loss: 0.0713 - val_accuracy: 0.9800\n",
      "Epoch 12/25\n",
      "38/38 [==============================] - 48s 1s/step - loss: 0.0891 - accuracy: 0.9745 - val_loss: 0.0655 - val_accuracy: 0.9819\n",
      "Epoch 13/25\n",
      "38/38 [==============================] - 49s 1s/step - loss: 0.0820 - accuracy: 0.9765 - val_loss: 0.0659 - val_accuracy: 0.9813\n",
      "Epoch 14/25\n",
      "38/38 [==============================] - 49s 1s/step - loss: 0.0779 - accuracy: 0.9774 - val_loss: 0.0744 - val_accuracy: 0.9779\n",
      "Epoch 15/25\n",
      "38/38 [==============================] - 49s 1s/step - loss: 0.0735 - accuracy: 0.9788 - val_loss: 0.0594 - val_accuracy: 0.9832\n",
      "Epoch 16/25\n",
      "38/38 [==============================] - 49s 1s/step - loss: 0.0690 - accuracy: 0.9804 - val_loss: 0.0624 - val_accuracy: 0.9814\n",
      "\n",
      "Reached 98% accuracy of training and 95% accuracy for validation so training is stop !\n",
      "INFO:tensorflow:Assets written to: model/assets\n"
     ]
    }
   ],
   "source": [
    "import tensorflow as tf\n",
    "import matplotlib.pyplot as plt\n",
    "import numpy as np\n",
    "\n",
    "# Define callback function to stop training when model get 98% accuracy for both train and test\n",
    "class myCallback(tf.keras.callbacks.Callback):\n",
    "    def on_epoch_end(self, epoch, logs={}):\n",
    "        if logs.get('accuracy') > 0.98 and logs.get('val_accuracy') > 0.95:\n",
    "            print(\"\\nReached 98% accuracy of training and 95% accuracy for validation so training is stop !\")\n",
    "            self.model.stop_training = True\n",
    "\n",
    "\n",
    "# Model's layer definition\n",
    "model = tf.keras.models.Sequential([\n",
    "    tf.keras.layers.Conv2D(32, (3, 3), activation='relu', input_shape=(28, 28, 1)),\n",
    "    tf.keras.layers.MaxPooling2D(2,2),\n",
    "    tf.keras.layers.Conv2D(64, (3, 3), activation='relu'),\n",
    "    tf.keras.layers.MaxPooling2D(2, 2),\n",
    "    tf.keras.layers.Flatten(),\n",
    "    tf.keras.layers.Dense(64,activation =\"relu\"),\n",
    "    tf.keras.layers.Dense(512, activation='relu'),\n",
    "    tf.keras.layers.Dropout(0.5),\n",
    "    tf.keras.layers.Dense(26, activation='softmax')\n",
    "])\n",
    "\n",
    "# Model Summary\n",
    "print(model.summary())\n",
    "\n",
    "# Compile the Model\n",
    "from tensorflow.keras.optimizers import RMSprop\n",
    "\n",
    "model.compile(optimizer=RMSprop(lr=0.001),\n",
    "              loss='categorical_crossentropy',\n",
    "              metrics=['accuracy'])\n",
    "\n",
    "# declare callback function\n",
    "callback = myCallback()\n",
    "\n",
    "\n",
    "# Create Data_generator which get image directly from directory\n",
    "# and label them according to its distinct directories for\n",
    "# for both training and test data set\n",
    "\n",
    "train_dir = './train'\n",
    "test_dir = './test'\n",
    "\n",
    "# rescale images\n",
    "train_datagen = tf.keras.preprocessing.image.ImageDataGenerator(rescale=1.0/255.)\n",
    "test_datagen = tf.keras.preprocessing.image.ImageDataGenerator(rescale=1.0/255.)\n",
    "\n",
    "\n",
    "train_generator = train_datagen.flow_from_directory(\n",
    "        train_dir,\n",
    "        target_size=(28, 28),\n",
    "        # all images are of single channel\n",
    "        color_mode='grayscale',\n",
    "        # load only 7351 image in one batch\n",
    "        batch_size=7351,\n",
    "        # use categorical crossenotropy loss, so need of categorical label\n",
    "        class_mode='categorical'\n",
    "    )\n",
    "\n",
    "test_generator = test_datagen.flow_from_directory(\n",
    "        test_dir,\n",
    "        target_size=(28, 28),\n",
    "        # load only 2450 image in one batch\n",
    "        batch_size=2450,\n",
    "        # all images are of single channel\n",
    "        color_mode='grayscale',\n",
    "        # use categorical crossenotropy loss, so need of categorical label\n",
    "        class_mode='categorical'\n",
    "    )\n",
    "\n",
    "\n",
    "# Fit the model\n",
    "history = model.fit(\n",
    "    train_generator,\n",
    "    validation_data=test_generator,\n",
    "    validation_steps=38,\n",
    "    steps_per_epoch=38,\n",
    "    epochs=25,\n",
    "    callbacks=callback,\n",
    "    verbose=1\n",
    "    )\n",
    "\n",
    "# Save the model\n",
    "model.save('model')"
   ]
  },
  {
   "cell_type": "code",
   "execution_count": 12,
   "metadata": {
    "colab": {
     "base_uri": "https://localhost:8080/",
     "height": 316
    },
    "id": "7JET2zsEz57Z",
    "outputId": "78e80840-7530-49ac-cd0b-00bd3e7d132a"
   },
   "outputs": [
    {
     "data": {
      "image/png": "[encoded data removed]",
      "text/plain": [
       "<Figure size 432x288 with 1 Axes>"
      ]
     },
     "metadata": {
      "needs_background": "light",
      "tags": []
     },
     "output_type": "display_data"
    },
    {
     "data": {
      "text/plain": [
       "<Figure size 432x288 with 0 Axes>"
      ]
     },
     "metadata": {
      "tags": []
     },
     "output_type": "display_data"
    },
    {
     "data": {
      "text/plain": [
       "<Figure size 432x288 with 0 Axes>"
      ]
     },
     "metadata": {
      "tags": []
     },
     "output_type": "display_data"
    }
   ],
   "source": [
    "import matplotlib.pyplot as plt\n",
    "acc = history.history['accuracy']\n",
    "val_acc = history.history['val_accuracy']\n",
    "loss = history.history['loss']\n",
    "val_loss = history.history['val_loss']\n",
    "\n",
    "epochs = range(len(acc))\n",
    "\n",
    "plt.plot(epochs, acc, 'b', label='Training accuracy')\n",
    "plt.plot(epochs, val_acc, 'g', label='Validation accuracy')\n",
    "plt.plot(epochs, loss, 'r', label='Training loss')\n",
    "plt.plot(epochs, val_loss, 'y', label='Validation loss')\n",
    "plt.title('Training and validation accuracy - Training and validation loss')\n",
    "plt.legend(loc=0)\n",
    "plt.figure()\n",
    "plt.show()\n",
    "plt.savefig('train_and_test_accuracy_loss_VS_Epochs.png')"
   ]
  }
 ],
 "metadata": {
  "accelerator": "GPU",
  "colab": {
   "name": "Training_model.ipynb",
   "provenance": [],
   "toc_visible": true
  },
  "kernelspec": {
   "display_name": "Python 3",
   "language": "python",
   "name": "python3"
  },
  "language_info": {
   "codemirror_mode": {
    "name": "ipython",
    "version": 3
   },
   "file_extension": ".py",
   "mimetype": "text/x-python",
   "name": "python",
   "nbconvert_exporter": "python",
   "pygments_lexer": "ipython3",
   "version": "3.8.5"
  }
 },
 "nbformat": 4,
 "nbformat_minor": 4
}
